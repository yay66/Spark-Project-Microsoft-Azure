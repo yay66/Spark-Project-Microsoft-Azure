{
 "cells": [
  {
   "cell_type": "markdown",
   "id": "0b0fe189",
   "metadata": {},
   "source": [
    "# Importing library"
   ]
  },
  {
   "cell_type": "code",
   "execution_count": 1,
   "id": "652cd5fd",
   "metadata": {},
   "outputs": [
    {
     "name": "stderr",
     "output_type": "stream",
     "text": [
      "C:\\ProgramData\\Anaconda3\\lib\\site-packages\\pyspark\\context.py:317: FutureWarning: Python 3.7 support is deprecated in Spark 3.4.\n",
      "  warnings.warn(\"Python 3.7 support is deprecated in Spark 3.4.\", FutureWarning)\n"
     ]
    }
   ],
   "source": [
    "from pyspark.context import SparkContext\n",
    "from pyspark.sql.session import SparkSession\n",
    "from pyspark.sql import *\n",
    "from pyspark.sql.types import *\n",
    "sc = SparkContext('local')\n",
    "spark = SparkSession(sc)"
   ]
  },
  {
   "cell_type": "code",
   "execution_count": 2,
   "id": "67bc7b3a",
   "metadata": {},
   "outputs": [],
   "source": [
    "# pip install pyspark"
   ]
  },
  {
   "cell_type": "code",
   "execution_count": 3,
   "id": "245f7da0",
   "metadata": {},
   "outputs": [
    {
     "name": "stdout",
     "output_type": "stream",
     "text": [
      " > > > > > > > > > > > > > > \t START LAB \t < < < < < < < < < < < < < <  \n",
      "\n",
      "\n",
      "\n"
     ]
    }
   ],
   "source": [
    "print(14 * \" >\", \"\\t START LAB \\t\", \"< \" * 14, \"\\n\\n\\n\")"
   ]
  },
  {
   "cell_type": "markdown",
   "id": "ef4f6b55",
   "metadata": {},
   "source": [
    "# Importing Dataset"
   ]
  },
  {
   "cell_type": "code",
   "execution_count": 4,
   "id": "7a652359",
   "metadata": {},
   "outputs": [],
   "source": [
    "#For Pyspark\n",
    "df = spark.read.csv('GlobalLandTemperaturesByMajorCity.csv', header=True, inferSchema=True)\n",
    "#For native SQL\n",
    "csvFile = spark.read.csv('GlobalLandTemperaturesByMajorCity.csv', header=True, inferSchema=True) \\\n",
    "                    .createOrReplaceTempView(\"GlobTemp\")"
   ]
  },
  {
   "cell_type": "markdown",
   "id": "8e442e7f",
   "metadata": {},
   "source": [
    "# Read Data"
   ]
  },
  {
   "cell_type": "code",
   "execution_count": 5,
   "id": "f48d6681",
   "metadata": {},
   "outputs": [
    {
     "data": {
      "text/plain": [
       "DataFrame[dt: date, AverageTemperature: double, AverageTemperatureUncertainty: double, City: string, Country: string, Latitude: string, Longitude: string]"
      ]
     },
     "execution_count": 5,
     "metadata": {},
     "output_type": "execute_result"
    }
   ],
   "source": [
    "df"
   ]
  },
  {
   "cell_type": "code",
   "execution_count": 6,
   "id": "fd0d6920",
   "metadata": {},
   "outputs": [],
   "source": [
    "csvFile"
   ]
  },
  {
   "cell_type": "code",
   "execution_count": 7,
   "id": "4fbd319f",
   "metadata": {},
   "outputs": [
    {
     "name": "stdout",
     "output_type": "stream",
     "text": [
      "+--------+\n",
      "|count(1)|\n",
      "+--------+\n",
      "|  239177|\n",
      "+--------+\n",
      "\n"
     ]
    }
   ],
   "source": [
    "spark.sql(\"SELECT COUNT(*) FROM GlobTemp\").show()"
   ]
  },
  {
   "cell_type": "code",
   "execution_count": 8,
   "id": "e8cd60e3",
   "metadata": {},
   "outputs": [],
   "source": [
    "column_count = len(spark.table(\"GlobTemp\").columns)"
   ]
  },
  {
   "cell_type": "markdown",
   "id": "2ed947d8",
   "metadata": {},
   "source": [
    "# Data Preprocessing"
   ]
  },
  {
   "cell_type": "markdown",
   "id": "2a1be075",
   "metadata": {},
   "source": [
    "### Checking data type"
   ]
  },
  {
   "cell_type": "code",
   "execution_count": 9,
   "id": "fd3dd9de",
   "metadata": {},
   "outputs": [
    {
     "data": {
      "text/plain": [
       "DataFrame[dt: date, AverageTemperature: double, AverageTemperatureUncertainty: double, City: string, Country: string, Latitude: string, Longitude: string]"
      ]
     },
     "execution_count": 9,
     "metadata": {},
     "output_type": "execute_result"
    }
   ],
   "source": [
    "df"
   ]
  },
  {
   "cell_type": "code",
   "execution_count": 10,
   "id": "2bdd6882",
   "metadata": {},
   "outputs": [
    {
     "name": "stdout",
     "output_type": "stream",
     "text": [
      "+---+\n",
      "| dt|\n",
      "+---+\n",
      "+---+\n",
      "\n"
     ]
    }
   ],
   "source": [
    "spark.sql(\"\"\"\n",
    "    SELECT dt\n",
    "    FROM GlobTemp\n",
    "    WHERE LENGTH(dt) != 10 OR dt NOT LIKE '____-__-__'\n",
    "\"\"\").show()"
   ]
  },
  {
   "cell_type": "markdown",
   "id": "2fb3f44d",
   "metadata": {},
   "source": [
    "### Checking missing values"
   ]
  },
  {
   "cell_type": "code",
   "execution_count": 11,
   "id": "1dd14036",
   "metadata": {},
   "outputs": [
    {
     "name": "stdout",
     "output_type": "stream",
     "text": [
      "+--------------------+\n",
      "|missing_values_count|\n",
      "+--------------------+\n",
      "|               11002|\n",
      "+--------------------+\n",
      "\n"
     ]
    }
   ],
   "source": [
    "spark.sql(\"\"\"\n",
    "    SELECT COUNT(*) as missing_values_count\n",
    "    FROM GlobTemp\n",
    "    WHERE AverageTemperature IS NULL\n",
    "\"\"\").show()"
   ]
  },
  {
   "cell_type": "code",
   "execution_count": 12,
   "id": "ec70f890",
   "metadata": {},
   "outputs": [
    {
     "data": {
      "text/plain": [
       "DataFrame[dt: date, AverageTemperature: double, AverageTemperatureUncertainty: double, City: string, Country: string, Latitude: string, Longitude: string]"
      ]
     },
     "execution_count": 12,
     "metadata": {},
     "output_type": "execute_result"
    }
   ],
   "source": [
    "# new df without missing values\n",
    "cleaned_df = spark.sql(\"\"\"\n",
    "    SELECT * FROM GlobTemp\n",
    "    WHERE AverageTemperature IS NOT NULL\n",
    "\"\"\")\n",
    "cleaned_df"
   ]
  },
  {
   "cell_type": "code",
   "execution_count": 13,
   "id": "97257eae",
   "metadata": {},
   "outputs": [],
   "source": [
    "cleaned_df.createOrReplaceTempView(\"GlobTemp\")"
   ]
  },
  {
   "cell_type": "code",
   "execution_count": 14,
   "id": "a2eb3810",
   "metadata": {},
   "outputs": [
    {
     "name": "stdout",
     "output_type": "stream",
     "text": [
      "+--------------------+\n",
      "|missing_values_count|\n",
      "+--------------------+\n",
      "|                   0|\n",
      "+--------------------+\n",
      "\n"
     ]
    }
   ],
   "source": [
    "spark.sql(\"\"\"\n",
    "    SELECT COUNT(*) as missing_values_count\n",
    "    FROM GlobTemp\n",
    "    WHERE AverageTemperature IS NULL\n",
    "\"\"\").show()"
   ]
  },
  {
   "cell_type": "code",
   "execution_count": 15,
   "id": "82424f2f",
   "metadata": {},
   "outputs": [
    {
     "name": "stdout",
     "output_type": "stream",
     "text": [
      "+--------------------+\n",
      "|missing_values_count|\n",
      "+--------------------+\n",
      "|                   0|\n",
      "+--------------------+\n",
      "\n"
     ]
    }
   ],
   "source": [
    "spark.sql(\"\"\"\n",
    "    SELECT COUNT(*) as missing_values_count\n",
    "    FROM GlobTemp\n",
    "    WHERE AverageTemperatureUncertainty IS NULL\n",
    "\"\"\").show()"
   ]
  },
  {
   "cell_type": "code",
   "execution_count": 16,
   "id": "4f042765",
   "metadata": {},
   "outputs": [
    {
     "name": "stdout",
     "output_type": "stream",
     "text": [
      "+--------------------+\n",
      "|missing_values_count|\n",
      "+--------------------+\n",
      "|                   0|\n",
      "+--------------------+\n",
      "\n"
     ]
    }
   ],
   "source": [
    "spark.sql(\"\"\"\n",
    "    SELECT COUNT(*) as missing_values_count\n",
    "    FROM GlobTemp\n",
    "    WHERE dt IS NULL\n",
    "\"\"\").show()"
   ]
  },
  {
   "cell_type": "code",
   "execution_count": 17,
   "id": "67fca832",
   "metadata": {},
   "outputs": [
    {
     "name": "stdout",
     "output_type": "stream",
     "text": [
      "+--------------------+\n",
      "|missing_values_count|\n",
      "+--------------------+\n",
      "|                   0|\n",
      "+--------------------+\n",
      "\n"
     ]
    }
   ],
   "source": [
    "spark.sql(\"\"\"\n",
    "    SELECT COUNT(*) as missing_values_count\n",
    "    FROM GlobTemp\n",
    "    WHERE City IS NULL\n",
    "\"\"\").show()"
   ]
  },
  {
   "cell_type": "code",
   "execution_count": 18,
   "id": "12bb3fc4",
   "metadata": {},
   "outputs": [
    {
     "name": "stdout",
     "output_type": "stream",
     "text": [
      "+--------------------+\n",
      "|missing_values_count|\n",
      "+--------------------+\n",
      "|                   0|\n",
      "+--------------------+\n",
      "\n"
     ]
    }
   ],
   "source": [
    "spark.sql(\"\"\"\n",
    "    SELECT COUNT(*) as missing_values_count\n",
    "    FROM GlobTemp\n",
    "    WHERE Country IS NULL\n",
    "\"\"\").show()"
   ]
  },
  {
   "cell_type": "code",
   "execution_count": 19,
   "id": "b23090a4",
   "metadata": {},
   "outputs": [
    {
     "name": "stdout",
     "output_type": "stream",
     "text": [
      "+--------------------+\n",
      "|missing_values_count|\n",
      "+--------------------+\n",
      "|                   0|\n",
      "+--------------------+\n",
      "\n"
     ]
    }
   ],
   "source": [
    "spark.sql(\"\"\"\n",
    "    SELECT COUNT(*) as missing_values_count\n",
    "    FROM GlobTemp\n",
    "    WHERE Latitude IS NULL\n",
    "\"\"\").show()"
   ]
  },
  {
   "cell_type": "code",
   "execution_count": 20,
   "id": "5a738d7b",
   "metadata": {},
   "outputs": [
    {
     "name": "stdout",
     "output_type": "stream",
     "text": [
      "+--------------------+\n",
      "|missing_values_count|\n",
      "+--------------------+\n",
      "|                   0|\n",
      "+--------------------+\n",
      "\n"
     ]
    }
   ],
   "source": [
    "spark.sql(\"\"\"\n",
    "    SELECT COUNT(*) as missing_values_count\n",
    "    FROM GlobTemp\n",
    "    WHERE Longitude IS NULL\n",
    "\"\"\").show()"
   ]
  },
  {
   "cell_type": "markdown",
   "id": "7a3b1647",
   "metadata": {},
   "source": [
    "### Checking outliers"
   ]
  },
  {
   "cell_type": "code",
   "execution_count": 21,
   "id": "4f549850",
   "metadata": {},
   "outputs": [
    {
     "name": "stdout",
     "output_type": "stream",
     "text": [
      "+-----+------------------+\n",
      "|   Q1|                Q3|\n",
      "+-----+------------------+\n",
      "|12.71|25.918000000000003|\n",
      "+-----+------------------+\n",
      "\n"
     ]
    }
   ],
   "source": [
    "spark.sql(\"\"\"\n",
    "    SELECT \n",
    "        percentile_approx(AverageTemperature, 0.25) as Q1,\n",
    "        percentile_approx(AverageTemperature, 0.75) as Q3\n",
    "    FROM GlobTemp\n",
    "\"\"\").show()"
   ]
  },
  {
   "cell_type": "markdown",
   "id": "5bf4b42e",
   "metadata": {},
   "source": [
    "IQR = Q3 - Q1 = 25.918 - 12.71 = 13.208\n",
    "- Lower Bound (LB) = Q1 - 1.5 * IQR = 12.71 - 1.5 * 13.208 = -7.602\n",
    "- Upper Bound (UB) = Q3 + 1.5 * IQR = 25.918 + 1.5 * 13.208 = 46.230"
   ]
  },
  {
   "cell_type": "code",
   "execution_count": 22,
   "id": "3e2d15f3",
   "metadata": {},
   "outputs": [
    {
     "name": "stdout",
     "output_type": "stream",
     "text": [
      "+----------+-------------------+---------+\n",
      "|        dt| AverageTemperature|     City|\n",
      "+----------+-------------------+---------+\n",
      "|1767-01-01| -8.252999999999998|   Berlin|\n",
      "|1776-01-01|             -8.336|   Berlin|\n",
      "|1788-12-01| -7.790000000000001|   Berlin|\n",
      "|1795-01-01|             -8.019|   Berlin|\n",
      "|1823-01-01|             -9.809|   Berlin|\n",
      "|1829-12-01|             -8.242|   Berlin|\n",
      "|1830-01-01|             -7.604|   Berlin|\n",
      "|1838-01-01|             -9.813|   Berlin|\n",
      "|1848-01-01|             -9.276|   Berlin|\n",
      "|1855-02-01|              -7.67|   Berlin|\n",
      "|1893-01-01|             -8.071|   Berlin|\n",
      "|1929-02-01|            -10.125|   Berlin|\n",
      "|1940-01-01|             -9.689|   Berlin|\n",
      "|1942-01-01| -7.867000000000001|   Berlin|\n",
      "|1947-02-01|             -8.272|   Berlin|\n",
      "|1956-02-01|             -9.646|   Berlin|\n",
      "|1963-01-01|             -8.026|   Berlin|\n",
      "|1820-12-01|            -15.398|Changchun|\n",
      "|1821-01-01|            -15.507|Changchun|\n",
      "|1821-02-01|-11.039000000000001|Changchun|\n",
      "+----------+-------------------+---------+\n",
      "only showing top 20 rows\n",
      "\n"
     ]
    }
   ],
   "source": [
    "spark.sql(\"\"\"\n",
    "    SELECT dt, AverageTemperature, City\n",
    "    FROM GlobTemp\n",
    "    WHERE AverageTemperature < -7.602 OR AverageTemperature > 46.230\n",
    "\"\"\").show()\n"
   ]
  },
  {
   "cell_type": "markdown",
   "id": "89112285",
   "metadata": {},
   "source": [
    "Outliers analysis:\n",
    "- Berlin has had very low temperatures in January for many years, probably due to the fact that it was winter.\n",
    "- Changchun's winter temperature is also very low, which is in line with the actual situation of its geographical location.\n",
    "\n",
    "##### None of them are defined as outlier and no need to handle them."
   ]
  },
  {
   "cell_type": "markdown",
   "id": "a21a15e1",
   "metadata": {},
   "source": [
    "### Checking duplicates"
   ]
  },
  {
   "cell_type": "code",
   "execution_count": 23,
   "id": "dc293fdd",
   "metadata": {},
   "outputs": [
    {
     "name": "stdout",
     "output_type": "stream",
     "text": [
      "+---+------------------+----+----------+\n",
      "| dt|AverageTemperature|City|duplicates|\n",
      "+---+------------------+----+----------+\n",
      "+---+------------------+----+----------+\n",
      "\n"
     ]
    }
   ],
   "source": [
    "spark.sql(\"\"\"\n",
    "    SELECT dt, AverageTemperature, City, COUNT(*) as duplicates\n",
    "    FROM GlobTemp\n",
    "    GROUP BY dt, AverageTemperature, City\n",
    "    HAVING duplicates > 1\n",
    "\"\"\").show()\n",
    "\n",
    "# no deplicates"
   ]
  },
  {
   "cell_type": "markdown",
   "id": "2f9505c5",
   "metadata": {},
   "source": [
    "### Checking data consistency"
   ]
  },
  {
   "cell_type": "code",
   "execution_count": 24,
   "id": "d5e34ffc",
   "metadata": {},
   "outputs": [
    {
     "name": "stdout",
     "output_type": "stream",
     "text": [
      "+----------------+\n",
      "|            City|\n",
      "+----------------+\n",
      "|Ho Chi Minh City|\n",
      "|     Los Angeles|\n",
      "|   Santo Domingo|\n",
      "|   Dar Es Salaam|\n",
      "|     Addis Abeba|\n",
      "|       Cape Town|\n",
      "|  Belo Horizonte|\n",
      "|       São Paulo|\n",
      "|      Umm Durman|\n",
      "|Saint Petersburg|\n",
      "|        Brasília|\n",
      "|       New Delhi|\n",
      "|        New York|\n",
      "|  Rio De Janeiro|\n",
      "|          Bogotá|\n",
      "+----------------+\n",
      "\n"
     ]
    }
   ],
   "source": [
    "spark.sql(\"\"\"\n",
    "    SELECT DISTINCT City\n",
    "    FROM GlobTemp\n",
    "    WHERE City NOT RLIKE '^[A-Z][a-z]*$'\n",
    "\"\"\").show()\n",
    "\n",
    "# data consistency"
   ]
  },
  {
   "cell_type": "markdown",
   "id": "9bc9c435",
   "metadata": {},
   "source": [
    "# Task 1: Aggreagte by Key\n",
    "- Sum\n",
    "- Max\n",
    "- Min"
   ]
  },
  {
   "cell_type": "code",
   "execution_count": 25,
   "id": "a1a20149",
   "metadata": {},
   "outputs": [
    {
     "name": "stdout",
     "output_type": "stream",
     "text": [
      "+----+------------------+-----------------+-------------------+\n",
      "|Year|         totalTemp|          maxTemp|            minTemp|\n",
      "+----+------------------+-----------------+-------------------+\n",
      "|2013| 16352.24599999999|37.12600000000001|            -21.106|\n",
      "|2012|23601.887000000002|           37.859|            -20.079|\n",
      "|2011|         23459.036|           37.184|            -22.029|\n",
      "|2010| 23894.08100000002|           37.899|            -18.555|\n",
      "|2009|23800.501999999986|           36.607|-17.855999999999998|\n",
      "|2008|23530.534000000043|           37.143|            -18.649|\n",
      "|2007|23825.123999999985|           36.429|-12.937000000000001|\n",
      "|2006|23752.792000000012|           37.041|-18.862000000000002|\n",
      "|2005|23528.687000000013|           36.512|-17.621000000000006|\n",
      "|2004|23606.644999999968|           36.542|-16.813000000000002|\n",
      "+----+------------------+-----------------+-------------------+\n",
      "only showing top 10 rows\n",
      "\n"
     ]
    }
   ],
   "source": [
    "spark.sql(\"\"\"SELECT YEAR(dt) AS Year, SUM(AverageTemperature) AS totalTemp, Max(AverageTemperature) AS maxTemp, Min(AverageTemperature) AS minTemp \n",
    "             FROM GlobTemp \n",
    "             GROUP BY Year \n",
    "             ORDER BY Year DESC\"\"\") \\\n",
    "     .show(10)"
   ]
  },
  {
   "cell_type": "markdown",
   "id": "54b8cc68",
   "metadata": {},
   "source": [
    "# Task 2: Window Functions"
   ]
  },
  {
   "cell_type": "code",
   "execution_count": 26,
   "id": "13f7dd79",
   "metadata": {},
   "outputs": [
    {
     "name": "stdout",
     "output_type": "stream",
     "text": [
      "+----------+------------------+-----------------------------+-------+-------------+--------+---------+------------------+\n",
      "|        dt|AverageTemperature|AverageTemperatureUncertainty|   City|      Country|Latitude|Longitude|           cum_sum|\n",
      "+----------+------------------+-----------------------------+-------+-------------+--------+---------+------------------+\n",
      "|1849-01-01|            26.704|                        1.435|Abidjan|Côte D'Ivoire|   5.63N|    3.23W|            26.704|\n",
      "|1849-02-01|            27.434|                        1.362|Abidjan|Côte D'Ivoire|   5.63N|    3.23W|54.138000000000005|\n",
      "|1849-03-01|            28.101|                        1.612|Abidjan|Côte D'Ivoire|   5.63N|    3.23W|            82.239|\n",
      "|1849-04-01|             26.14|           1.3869999999999998|Abidjan|Côte D'Ivoire|   5.63N|    3.23W|           108.379|\n",
      "|1849-05-01|            25.427|                          1.2|Abidjan|Côte D'Ivoire|   5.63N|    3.23W|           133.806|\n",
      "|1849-06-01|            24.844|                        1.402|Abidjan|Côte D'Ivoire|   5.63N|    3.23W|            158.65|\n",
      "|1849-07-01|24.058000000000003|                        1.254|Abidjan|Côte D'Ivoire|   5.63N|    3.23W|           182.708|\n",
      "|1849-08-01|            23.576|                        1.265|Abidjan|Côte D'Ivoire|   5.63N|    3.23W|           206.284|\n",
      "|1849-09-01|            23.662|                        1.226|Abidjan|Côte D'Ivoire|   5.63N|    3.23W|           229.946|\n",
      "|1849-10-01|            25.263|                        1.175|Abidjan|Côte D'Ivoire|   5.63N|    3.23W|           255.209|\n",
      "+----------+------------------+-----------------------------+-------+-------------+--------+---------+------------------+\n",
      "only showing top 10 rows\n",
      "\n"
     ]
    }
   ],
   "source": [
    "from pyspark.sql import functions as F\n",
    "windowval = (Window.partitionBy('City').orderBy('dt')\n",
    "             .rangeBetween(Window.unboundedPreceding, 0))\n",
    "df_w_cumsum = df.withColumn('cum_sum', F.sum('AverageTemperature').over(windowval))\n",
    "df_w_cumsum.show(10)"
   ]
  },
  {
   "cell_type": "markdown",
   "id": "bc6b77f9",
   "metadata": {},
   "source": [
    "# Task 3: Pivot Tables"
   ]
  },
  {
   "cell_type": "code",
   "execution_count": 27,
   "id": "fd162740",
   "metadata": {},
   "outputs": [
    {
     "name": "stdout",
     "output_type": "stream",
     "text": [
      "+----------------+-----------+------+---------+----------+-----------------+-----+------+-----+-----------------+--------+----------------------------------+-------------+------------------+-----------------+--------+------+-------+-----------------+---------+-----------------+----+-----+-----+-----+------+-----------------+-------+--------+-----------------+-----------+------+------------+-------+------------------+-------+------------+-----------+------------------+-----+-----+------+--------+--------+------+-------+--------------+-------------+-----------------+--------+\n",
      "|            City|Afghanistan|Angola|Australia|Bangladesh|           Brazil|Burma|Canada|Chile|            China|Colombia|Congo (Democratic Republic Of The)|Côte D'Ivoire|Dominican Republic|            Egypt|Ethiopia|France|Germany|            India|Indonesia|             Iran|Iraq|Italy|Japan|Kenya|Mexico|          Morocco|Nigeria|Pakistan|             Peru|Philippines|Russia|Saudi Arabia|Senegal|         Singapore|Somalia|South Africa|South Korea|             Spain|Sudan|Syria|Taiwan|Tanzania|Thailand|Turkey|Ukraine|United Kingdom|United States|          Vietnam|Zimbabwe|\n",
      "+----------------+-----------+------+---------+----------+-----------------+-----+------+-----+-----------------+--------+----------------------------------+-------------+------------------+-----------------+--------+------+-------+-----------------+---------+-----------------+----+-----+-----+-----+------+-----------------+-------+--------+-----------------+-----------+------+------------+-------+------------------+-------+------------+-----------+------------------+-----+-----+------+--------+--------+------+-------+--------------+-------------+-----------------+--------+\n",
      "|       Bangalore|       null|  null|     null|      null|             null| null|  null| null|             null|    null|                              null|         null|              null|             null|    null|  null|   null|62338.58699999996|     null|             null|null| null| null| null|  null|             null|   null|    null|             null|       null|  null|        null|   null|              null|   null|        null|       null|              null| null| null|  null|    null|    null|  null|   null|          null|         null|             null|    null|\n",
      "|           Cairo|       null|  null|     null|      null|             null| null|  null| null|             null|    null|                              null|         null|              null|51822.31500000013|    null|  null|   null|             null|     null|             null|null| null| null| null|  null|             null|   null|    null|             null|       null|  null|        null|   null|              null|   null|        null|       null|              null| null| null|  null|    null|    null|  null|   null|          null|         null|             null|    null|\n",
      "|      Casablanca|       null|  null|     null|      null|             null| null|  null| null|             null|    null|                              null|         null|              null|             null|    null|  null|   null|             null|     null|             null|null| null| null| null|  null|50074.63600000004|   null|    null|             null|       null|  null|        null|   null|              null|   null|        null|       null|              null| null| null|  null|    null|    null|  null|   null|          null|         null|             null|    null|\n",
      "|       Guangzhou|       null|  null|     null|      null|             null| null|  null| null|45032.49800000004|    null|                              null|         null|              null|             null|    null|  null|   null|             null|     null|             null|null| null| null| null|  null|             null|   null|    null|             null|       null|  null|        null|   null|              null|   null|        null|       null|              null| null| null|  null|    null|    null|  null|   null|          null|         null|             null|    null|\n",
      "|Ho Chi Minh City|       null|  null|     null|      null|             null| null|  null| null|             null|    null|                              null|         null|              null|             null|    null|  null|   null|             null|     null|             null|null| null| null| null|  null|             null|   null|    null|             null|       null|  null|        null|   null|              null|   null|        null|       null|              null| null| null|  null|    null|    null|  null|   null|          null|         null|56264.35200000006|    null|\n",
      "|       Fortaleza|       null|  null|     null|      null|44807.33300000005| null|  null| null|             null|    null|                              null|         null|              null|             null|    null|  null|   null|             null|     null|             null|null| null| null| null|  null|             null|   null|    null|             null|       null|  null|        null|   null|              null|   null|        null|       null|              null| null| null|  null|    null|    null|  null|   null|          null|         null|             null|    null|\n",
      "|            Lima|       null|  null|     null|      null|             null| null|  null| null|             null|    null|                              null|         null|              null|             null|    null|  null|   null|             null|     null|             null|null| null| null| null|  null|             null|   null|    null|25505.83100000001|       null|  null|        null|   null|              null|   null|        null|       null|              null| null| null|  null|    null|    null|  null|   null|          null|         null|             null|    null|\n",
      "|          Madrid|       null|  null|     null|      null|             null| null|  null| null|             null|    null|                              null|         null|              null|             null|    null|  null|   null|             null|     null|             null|null| null| null| null|  null|             null|   null|    null|             null|       null|  null|        null|   null|              null|   null|        null|       null|36246.596999999936| null| null|  null|    null|    null|  null|   null|          null|         null|             null|    null|\n",
      "|         Mashhad|       null|  null|     null|      null|             null| null|  null| null|             null|    null|                              null|         null|              null|             null|    null|  null|   null|             null|     null|27092.64300000001|null| null| null| null|  null|             null|   null|    null|             null|       null|  null|        null|   null|              null|   null|        null|       null|              null| null| null|  null|    null|    null|  null|   null|          null|         null|             null|    null|\n",
      "|       Singapore|       null|  null|     null|      null|             null| null|  null| null|             null|    null|                              null|         null|              null|             null|    null|  null|   null|             null|     null|             null|null| null| null| null|  null|             null|   null|    null|             null|       null|  null|        null|   null|54425.406999999905|   null|        null|       null|              null| null| null|  null|    null|    null|  null|   null|          null|         null|             null|    null|\n",
      "+----------------+-----------+------+---------+----------+-----------------+-----+------+-----+-----------------+--------+----------------------------------+-------------+------------------+-----------------+--------+------+-------+-----------------+---------+-----------------+----+-----+-----+-----+------+-----------------+-------+--------+-----------------+-----------+------+------------+-------+------------------+-------+------------+-----------+------------------+-----+-----+------+--------+--------+------+-------+--------------+-------------+-----------------+--------+\n",
      "only showing top 10 rows\n",
      "\n"
     ]
    }
   ],
   "source": [
    "df.groupBy(\"City\").pivot(\"Country\").sum(\"AverageTemperature\") \\\n",
    ".show(10)"
   ]
  },
  {
   "cell_type": "markdown",
   "id": "12aac405",
   "metadata": {},
   "source": [
    "# Task 4: Multi-Level Aggregation\n",
    "- city"
   ]
  },
  {
   "cell_type": "code",
   "execution_count": 28,
   "id": "a98fe4ca",
   "metadata": {},
   "outputs": [
    {
     "name": "stdout",
     "output_type": "stream",
     "text": [
      "+----------------+------------------+\n",
      "|            City|           avgTemp|\n",
      "+----------------+------------------+\n",
      "|       Bangalore|24.855895933014303|\n",
      "|           Cairo| 21.22125921375925|\n",
      "|      Casablanca|17.184157858613595|\n",
      "|       Guangzhou| 21.60868426103644|\n",
      "|       Fortaleza|27.008639541892705|\n",
      "|Ho Chi Minh City|27.193983566940563|\n",
      "|            Lima| 16.76911965811967|\n",
      "|          Madrid|11.448704042956397|\n",
      "|         Mashhad|12.571992111368898|\n",
      "|       Singapore|26.523102826510698|\n",
      "+----------------+------------------+\n",
      "only showing top 10 rows\n",
      "\n"
     ]
    }
   ],
   "source": [
    "spark.sql(\"\"\"SELECT City, AVG(ds.sumTemp) AS avgTemp \n",
    "             FROM (SELECT dt,\n",
    "                          City,\n",
    "                          SUM(AverageTemperature) AS sumTemp\n",
    "                   FROM GlobTemp\n",
    "                   GROUP BY dt, City) AS ds \n",
    "             GROUP BY City\"\"\") \\\n",
    "     .show(10)"
   ]
  },
  {
   "cell_type": "code",
   "execution_count": null,
   "id": "9e70d475",
   "metadata": {},
   "outputs": [],
   "source": []
  },
  {
   "cell_type": "code",
   "execution_count": null,
   "id": "fbb4003e",
   "metadata": {},
   "outputs": [],
   "source": []
  }
 ],
 "metadata": {
  "kernelspec": {
   "display_name": "Python 3 (ipykernel)",
   "language": "python",
   "name": "python3"
  },
  "language_info": {
   "codemirror_mode": {
    "name": "ipython",
    "version": 3
   },
   "file_extension": ".py",
   "mimetype": "text/x-python",
   "name": "python",
   "nbconvert_exporter": "python",
   "pygments_lexer": "ipython3",
   "version": "3.7.12"
  }
 },
 "nbformat": 4,
 "nbformat_minor": 5
}
